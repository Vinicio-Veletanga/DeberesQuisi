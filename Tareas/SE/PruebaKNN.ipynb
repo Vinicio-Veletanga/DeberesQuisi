{
 "cells": [
  {
   "cell_type": "code",
   "execution_count": 72,
   "metadata": {},
   "outputs": [],
   "source": [
    "import csv\n",
    "from neo4j import GraphDatabase"
   ]
  },
  {
   "cell_type": "code",
   "execution_count": 73,
   "metadata": {},
   "outputs": [],
   "source": [
    "#CLASE PAR CREAR NODO CARROS\n",
    "class CLASE_NODO(object): \n",
    "    def __init__(self):\n",
    "        self._driver = GraphDatabase.driver(\"bolt:neo4j://localhost:7687\", auth=(\"neo4j\", \"neo4jj\"), encrypted=False)\n",
    "    def close(self):\n",
    "        self._driver.close()\n",
    "    def CREAR_NODO(self, message,make,model,fuel_type,aspiration,num_of_doors,body_style,drive_wheels,\n",
    "                      engine_location,wheel_base,length,width,height,curb_weight,engine_type,num_of_cylinders,\n",
    "                      engine_size,fuel_system,compression_ratio,horsepower,peak_rpm,city_mpg,highway_mpg,price):\n",
    "        with self._driver.session() as session:\n",
    "            greeting = session.write_transaction(self._VALIDAR_NODO, message,make,model,fuel_type,aspiration,num_of_doors,body_style,drive_wheels,\n",
    "                      engine_location,wheel_base,length,width,height,curb_weight,engine_type,num_of_cylinders,\n",
    "                      engine_size,fuel_system,compression_ratio,horsepower,peak_rpm,city_mpg,highway_mpg,price)\n",
    "    #METODO PARA CREAR LOS NODOS CARROS\n",
    "    @staticmethod\n",
    "    def _VALIDAR_NODO(tx, message,make,model,fuel_type,aspiration,num_of_doors,body_style,drive_wheels,\n",
    "                      engine_location,wheel_base,length,width,height,curb_weight,engine_type,num_of_cylinders,\n",
    "                      engine_size,fuel_system,compression_ratio,horsepower,peak_rpm,city_mpg,highway_mpg,price):\n",
    "        result = tx.run(\"CREATE(\"+make+\":Carros {make:'\"+make+\"',model:'\"+model+\"',fuel_type:'\"+fuel_type+\"',aspiration:'\"+aspiration\n",
    "                        +\"',num_of_doors:'\"+num_of_doors+\"',body_style:'\"+body_style+\"',drive_wheels:'\"+drive_wheels\n",
    "                        +\"',engine_location:'\"+engine_location+\"',wheel_base:'\"+wheel_base+\"',length:'\"+length+\"',width:'\"+width\n",
    "                        +\"',height:'\"+height+\"',curb_weight:'\"+curb_weight+\"',engine_type:'\"+engine_type+\"',num_of_cylinders:'\"+num_of_cylinders+\n",
    "                        \"',engine_size:'\"+engine_size+\"',fuel_system:'\"+fuel_system+\"',compression_ratio:'\"+compression_ratio\n",
    "                        +\"',horsepower:'\"+horsepower+\"',peak_rpm:'\"+peak_rpm+\"',city_mpg:'\"+city_mpg+\"',highway_mpg:'\"+highway_mpg+\"',price:\"+price+\"}) \"\n",
    "                        \"SET \"+make+\".message = $message \"\n",
    "                        \"RETURN \"+make+\".message + ', from node ' + id(\"+make+\")\", message=message)\n",
    "    "
   ]
  },
  {
   "cell_type": "code",
   "execution_count": 74,
   "metadata": {},
   "outputs": [],
   "source": [
    "#SE INICIALIZA LA CLASE DE LOS METODOS DE NEO4J\n",
    "grafo=CLASE_NODO()\n",
    "with open('C:/Users/ADMINX/Documents/9ciclo/MATERIAS/DeberesQuisi/Tareas/SE/car_dataset.csv', newline='') as File:  \n",
    "    reader = csv.reader(File)  \n",
    "    for row in reader:\n",
    "        if str(row[1])=='make':\n",
    "            pass\n",
    "        elif str(row[23])!='?':            \n",
    "            grafo.CREAR_NODO(\"Se crea el nod0 \"+row[0],str(row[1]).replace(\"-\",\"_\"),str(row[2]).replace(\"-\",\"_\"),str(row[3]).replace(\"-\",\"_\"),str(row[4]).replace(\"-\",\"_\"),str(row[5]).replace(\"-\",\"_\"),str(row[6]).replace(\"-\",\"_\"),str(row[7]).replace(\"-\",\"_\"),str(row[8]).replace(\"-\",\"_\"),row[9],str(row[10]).replace(\"-\",\"_\"),str(row[11]).replace(\"-\",\"_\"),str(row[12]).replace(\"-\",\"_\"),str(row[13]).replace(\"-\",\"_\"),str(row[14]).replace(\"-\",\"_\"),str(row[15]).replace(\"-\",\"_\"),str(row[16]).replace(\"-\",\"_\"),str(row[17]).replace(\"-\",\"_\"),str(row[18]).replace(\"-\",\"_\"),str(row[19]).replace(\"-\",\"_\"),str(row[20]).replace(\"-\",\"_\"),str(row[21]).replace(\"-\",\"_\"),str(row[22]).replace(\"-\",\"_\"),row[23])\n",
    "        elif str(row[23]=='?'):\n",
    "            v = str(row[23]).replace(\"?\",\"0\")\n",
    "            grafo.CREAR_NODO(\"Se crea el nod0 \"+row[0],str(row[1]).replace(\"-\",\"_\"),str(row[2]).replace(\"-\",\"_\"),str(row[3]).replace(\"-\",\"_\"),str(row[4]).replace(\"-\",\"_\"),str(row[5]).replace(\"-\",\"_\"),str(row[6]).replace(\"-\",\"_\"),str(row[7]).replace(\"-\",\"_\"),str(row[8]).replace(\"-\",\"_\"),row[9],str(row[10]).replace(\"-\",\"_\"),str(row[11]).replace(\"-\",\"_\"),str(row[12]).replace(\"-\",\"_\"),str(row[13]).replace(\"-\",\"_\"),str(row[14]).replace(\"-\",\"_\"),str(row[15]).replace(\"-\",\"_\"),str(row[16]).replace(\"-\",\"_\"),str(row[17]).replace(\"-\",\"_\"),str(row[18]).replace(\"-\",\"_\"),str(row[19]).replace(\"-\",\"_\"),str(row[20]).replace(\"-\",\"_\"),str(row[21]).replace(\"-\",\"_\"),str(row[22]).replace(\"-\",\"_\"),v)\n"
   ]
  },
  {
   "cell_type": "code",
   "execution_count": 39,
   "metadata": {},
   "outputs": [
    {
     "ename": "SyntaxError",
     "evalue": "invalid syntax (<ipython-input-39-bad8d3e794bf>, line 4)",
     "output_type": "error",
     "traceback": [
      "\u001b[1;36m  File \u001b[1;32m\"<ipython-input-39-bad8d3e794bf>\"\u001b[1;36m, line \u001b[1;32m4\u001b[0m\n\u001b[1;33m    CALL gds.beta.knn.write(\u001b[0m\n\u001b[1;37m           ^\u001b[0m\n\u001b[1;31mSyntaxError\u001b[0m\u001b[1;31m:\u001b[0m invalid syntax\n"
     ]
    }
   ],
   "source": [
    "# MATCH (n) OPTIONAL MATCH (n)-[r]-() DELETE n,r\n",
    "\n",
    "#SE APLICA EL METODO DE KNN\n",
    "#SE CREA EL GRAF DE LOS NODOS Y EL ATRIBUTO PARA LA SIMILTUD\n",
    "CALL gds.graph.create(\n",
    "    'GrafoC',\n",
    "    {\n",
    "        Carros: {\n",
    "            label: 'Carros',\n",
    "            properties: 'price'\n",
    "        }\n",
    "    },\n",
    "    '*'\n",
    ");\n",
    "#CUANTO SE REQUERIERE DE MEMORIA\n",
    "CALL gds.beta.knn.write.estimate('GrafoC', {\n",
    "  nodeWeightProperty: 'price',\n",
    "  writeRelationshipType: 'SIMILAR',\n",
    "  writeProperty: 'score',\n",
    "  topK: 1\n",
    "})\n",
    "YIELD nodeCount, bytesMin, bytesMax, requiredMemory\n",
    "\n",
    "#SE EJECUTA EL ALGORITMO\n",
    "CALL gds.beta.knn.stream('GrafoC', {\n",
    "    topK: 1,\n",
    "    nodeWeightProperty: 'price',\n",
    "    randomSeed: 42,\n",
    "    concurrency: 1,\n",
    "    sampleRate: 1.0,\n",
    "    deltaThreshold: 0.0\n",
    "})\n",
    "YIELD node1, node2, similarity\n",
    "RETURN gds.util.asNode(node1).make AS Carros1, gds.util.asNode(node2).make AS Carros2, similarity\n",
    "ORDER BY similarity DESCENDING, Carros1, Carros2\n",
    "\n",
    "#\n",
    "CALL gds.beta.knn.write('GrafoC', {\n",
    "    writeRelationshipType: 'SIMILAR',\n",
    "    writeProperty: 'score',\n",
    "    topK: 1,\n",
    "    randomSeed: 42,\n",
    "    nodeWeightProperty: 'price'\n",
    "})\n",
    "YIELD nodesCompared, relationshipsWritten"
   ]
  }
 ],
 "metadata": {
  "kernelspec": {
   "display_name": "Python 3",
   "language": "python",
   "name": "python3"
  },
  "language_info": {
   "codemirror_mode": {
    "name": "ipython",
    "version": 3
   },
   "file_extension": ".py",
   "mimetype": "text/x-python",
   "name": "python",
   "nbconvert_exporter": "python",
   "pygments_lexer": "ipython3",
   "version": "3.7.6"
  }
 },
 "nbformat": 4,
 "nbformat_minor": 4
}
