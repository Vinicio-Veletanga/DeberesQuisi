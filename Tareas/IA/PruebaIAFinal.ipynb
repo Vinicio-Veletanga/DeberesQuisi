{
 "cells": [
  {
   "cell_type": "code",
   "execution_count": 1,
   "metadata": {},
   "outputs": [],
   "source": [
    "from neo4j import GraphDatabase\n",
    "import bs4\n",
    "from bs4 import BeautifulSoup as soup\n",
    "from urllib.request import Request, urlopen"
   ]
  },
  {
   "cell_type": "code",
   "execution_count": 2,
   "metadata": {},
   "outputs": [
    {
     "name": "stdout",
     "output_type": "stream",
     "text": [
      "(' SE CREA NODO DEL CANDIDATO, from node 1112', ' SE CREA NODO DEL CANDIDATO, from node 1113', ' SE CREA NODO DEL CANDIDATO, from node 1114', ' SE CREA NODO DEL CANDIDATO, from node 1115', ' SE CREA NODO DEL CANDIDATO, from node 1116', ' SE CREA NODO DEL CANDIDATO, from node 1117', ' SE CREA NODO DEL CANDIDATO, from node 1118', ' SE CREA NODO DEL CANDIDATO, from node 1119', ' SE CREA NODO DEL CANDIDATO, from node 1120')\n",
      "None\n"
     ]
    }
   ],
   "source": [
    "#CLASE PAR CREAR NODO CENTRAR-PARQUE CENTRAL\n",
    "class HelloWorldExample(object): \n",
    "    def __init__(self):\n",
    "        self._driver = GraphDatabase.driver(\"bolt:neo4j://localhost:7687\", auth=(\"neo4j\", \"neo4jj\"), encrypted=False)\n",
    "     \n",
    "    def close(self):\n",
    "        self._driver.close()\n",
    "\n",
    "    def print_greeting(self, message):\n",
    "        with self._driver.session() as session:\n",
    "            greeting = session.write_transaction(self._create_and_return_greeting, message)\n",
    "            print(greeting)\n",
    "            \n",
    "    def print_greeting2(self):\n",
    "        with self._driver.session() as session:\n",
    "            greeting2 = session.write_transaction(self._create_relation)\n",
    "            print(greeting2)\n",
    "            \n",
    "    #METODO PARA CREAR LOS NODOS DE LUGARES\n",
    "    @staticmethod\n",
    "    def _create_and_return_greeting(tx, message):\n",
    "        #SE CREA NODO PARQUE-CENTRAL\n",
    "        result = tx.run(\"CREATE (PARQUE_CENTRAL:Lugares {nombre:'PARQUE_CENTRAL'}) \"\n",
    "                        \"SET PARQUE_CENTRAL.message = $message \"\n",
    "                        \"RETURN PARQUE_CENTRAL.message + ', from node ' + id(PARQUE_CENTRAL)\", message=message)\n",
    "        \n",
    "        #SE CREA NODO PARQUE-ECOLOGICO\n",
    "        result1 = tx.run(\"CREATE (PARQUE_ECOLOGICO:Lugares {nombre:'PARQUE_ECOLOGICO'}) \"\n",
    "                        \"SET PARQUE_ECOLOGICO.message = $message \"\n",
    "                        \"RETURN PARQUE_ECOLOGICO.message + ', from node ' + id(PARQUE_ECOLOGICO)\", message=message)\n",
    "        \n",
    "        #SE CREA NODO BASILICA-SAGRADO-CORAZON\n",
    "        result2 = tx.run(\"CREATE (BASILICA_SAGRADO_CORAZON:Lugares {nombre:'BASILICA_SAGRADO_CORAZON'}) \"\n",
    "                        \"SET BASILICA_SAGRADO_CORAZON.message = $message \"\n",
    "                        \"RETURN BASILICA_SAGRADO_CORAZON.message + ', from node ' + id(BASILICA_SAGRADO_CORAZON)\", message=message)\n",
    "        \n",
    "        #SE CREA NODO PRO-BICI\n",
    "        result3 = tx.run(\"CREATE (PRO_BICI:Lugares {nombre:'PRO_BICI'}) \"\n",
    "                        \"SET PRO_BICI.message = $message \"\n",
    "                        \"RETURN PRO_BICI.message + ', from node ' + id(PRO_BICI)\", message=message)\n",
    "        \n",
    "        #SE CREA NODO PARQUE-MALDONADO\n",
    "        result4 = tx.run(\"CREATE (PARQUE_MALDONADO:Lugares {nombre:'PARQUE_MALDONADO'}) \"\n",
    "                        \"SET PARQUE_MALDONADO.message = $message \"\n",
    "                        \"RETURN PARQUE_MALDONADO.message + ', from node ' + id(PARQUE_MALDONADO)\", message=message)\n",
    "        \n",
    "        \n",
    "        #SE CREA NODO CATEDRAL-SAN-PEDRO\n",
    "        result5 = tx.run(\"CREATE (CATEDRAL_SAN_PEDRO:Lugares {nombre:'CATEDRAL_SAN_PEDRO'}) \"\n",
    "                        \"SET CATEDRAL_SAN_PEDRO.message = $message \"\n",
    "                        \"RETURN CATEDRAL_SAN_PEDRO.message + ', from node ' + id(CATEDRAL_SAN_PEDRO)\", message=message)\n",
    "        \n",
    "        \n",
    "        #SE CREA NODO MUSEO-ARTE-RELIGIOSO\n",
    "        result6 = tx.run(\"CREATE (MUSEO_ARTE_RELIGIOSO:Lugares {nombre:'MUSEO_ARTE_RELIGIOSO'}) \"\n",
    "                        \"SET MUSEO_ARTE_RELIGIOSO.message = $message \"\n",
    "                        \"RETURN MUSEO_ARTE_RELIGIOSO.message + ', from node ' + id(MUSEO_ARTE_RELIGIOSO)\", message=message)\n",
    "        \n",
    "        \n",
    "        #SE CREA NODO PARQUE-GUAYAQUIL\n",
    "        result7 = tx.run(\"CREATE (PARQUE_GUAYAQUIL:Lugares {nombre:'PARQUE_GUAYAQUIL'}) \"\n",
    "                        \"SET PARQUE_GUAYAQUIL.message = $message \"\n",
    "                        \"RETURN PARQUE_GUAYAQUIL.message + ', from node ' + id(PARQUE_GUAYAQUIL)\", message=message)\n",
    "        \n",
    "        \n",
    "        #SE CREA NODO PARQUE-21-ABRIL\n",
    "        result8 = tx.run(\"CREATE (PARQUE_21_ABRIL:Lugares {nombre:'PARQUE_21_ABRIL'}) \"\n",
    "                        \"SET PARQUE_21_ABRIL.message = $message \"\n",
    "                        \"RETURN PARQUE_21_ABRIL.message + ', from node ' + id(PARQUE_21_ABRIL)\", message=message)\n",
    "    \n",
    "        return result.single()[0],result1.single()[0],result2.single()[0],result3.single()[0],result4.single()[0],result5.single()[0],result6.single()[0],result7.single()[0],result8.single()[0]\n",
    "    \n",
    "    #METODO PARA CREAR LAS PRIMERAS RELACIONES CON EL COSTE PARA LA RUTA\n",
    "    @staticmethod\n",
    "    def _create_relation(tx):\n",
    "        result2 = tx.run(\"match(PARQUE_CENTRAL:Lugares {nombre:'PARQUE_CENTRAL'}) match(PARQUE_ECOLOGICO:Lugares {nombre:'PARQUE_ECOLOGICO'}) create(PARQUE_CENTRAL)-[:RUTA_DE{costo: '1.79'}]->(PARQUE_ECOLOGICO)\")\n",
    "        result3 = tx.run(\"match(PARQUE_CENTRAL:Lugares {nombre:'PARQUE_CENTRAL'}) match(BASILICA_SAGRADO_CORAZON:Lugares {nombre:'BASILICA_SAGRADO_CORAZON'}) create(PARQUE_CENTRAL)-[:RUTA_DE{costo: '0.56'}]->(BASILICA_SAGRADO_CORAZON)\")\n",
    "        result4 = tx.run(\"match(PARQUE_CENTRAL:Lugares {nombre:'PARQUE_CENTRAL'}) match(PRO_BICI:Lugares {nombre:'PRO_BICI'}) create(PARQUE_CENTRAL)-[:RUTA_DE{costo: '0.10'}]->(PRO_BICI)\")\n",
    "        result5 = tx.run(\"match(PARQUE_CENTRAL:Lugares {nombre:'PARQUE_CENTRAL'}) match(PARQUE_MALDONADO:Lugares {nombre:'PARQUE_MALDONADO'}) create(PARQUE_CENTRAL)-[:RUTA_DE{costo: '0.24'}]->(PARQUE_MALDONADO)\")\n",
    "        result6 = tx.run(\"match(PARQUE_CENTRAL:Lugares {nombre:'PARQUE_CENTRAL'}) match(CATEDRAL_SAN_PEDRO:Lugares {nombre:'CATEDRAL_SAN_PEDRO'}) create(PARQUE_CENTRAL)-[:RUTA_DE{costo: '0.27'}]->(CATEDRAL_SAN_PEDRO)\")\n",
    "        result7 = tx.run(\"match(PARQUE_CENTRAL:Lugares {nombre:'PARQUE_CENTRAL'}) match(MUSEO_ARTE_RELIGIOSO:Lugares {nombre:'MUSEO_ARTE_RELIGIOSO'}) create(PARQUE_CENTRAL)-[:RUTA_DE{costo: '0.27'}]->(MUSEO_ARTE_RELIGIOSO)\")\n",
    "        result8 = tx.run(\"match(PARQUE_CENTRAL:Lugares {nombre:'PARQUE_CENTRAL'}) match(PARQUE_GUAYAQUIL:Lugares {nombre:'PARQUE_GUAYAQUIL'}) create(PARQUE_CENTRAL)-[:RUTA_DE{costo: '1.04'}]->(PARQUE_GUAYAQUIL)\")\n",
    "        result9 = tx.run(\"match(PARQUE_CENTRAL:Lugares {nombre:'PARQUE_CENTRAL'}) match(PARQUE_21_ABRIL:Lugares {nombre:'PARQUE_21_ABRIL'}) create(PARQUE_CENTRAL)-[:RUTA_DE{costo: '0.68'}]->(PARQUE_21_ABRIL)\")\n",
    "        \n",
    "    \n",
    "grafo=HelloWorldExample()\n",
    "grafo.print_greeting(\" SE CREA NODO DEL CANDIDATO\")\n",
    "grafo.print_greeting2()"
   ]
  },
  {
   "cell_type": "code",
   "execution_count": null,
   "metadata": {},
   "outputs": [],
   "source": []
  }
 ],
 "metadata": {
  "kernelspec": {
   "display_name": "Python 3",
   "language": "python",
   "name": "python3"
  },
  "language_info": {
   "codemirror_mode": {
    "name": "ipython",
    "version": 3
   },
   "file_extension": ".py",
   "mimetype": "text/x-python",
   "name": "python",
   "nbconvert_exporter": "python",
   "pygments_lexer": "ipython3",
   "version": "3.7.6"
  }
 },
 "nbformat": 4,
 "nbformat_minor": 4
}
